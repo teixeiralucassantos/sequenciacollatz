{
  "nbformat": 4,
  "nbformat_minor": 0,
  "metadata": {
    "colab": {
      "provenance": []
    },
    "kernelspec": {
      "name": "python3",
      "display_name": "Python 3"
    },
    "language_info": {
      "name": "python"
    }
  },
  "cells": [
    {
      "cell_type": "code",
      "execution_count": null,
      "metadata": {
        "id": "z0BLN0kG5SWu",
        "outputId": "2c30be1f-993a-4d28-e496-6ef24c07e456",
        "colab": {
          "base_uri": "https://localhost:8080/"
        }
      },
      "outputs": [
        {
          "output_type": "stream",
          "name": "stdout",
          "text": [
            "Maior sequência de Collatz para um número entre 1 e 100000 é 351 para o número 77031\n"
          ]
        }
      ],
      "source": [
        "def collatz(n):\n",
        "    seq = [n]\n",
        "    while n != 1:\n",
        "        if n % 2 == 0:\n",
        "            n //= 2\n",
        "        else:\n",
        "            n = 3*n + 1\n",
        "        seq.append(n)\n",
        "    return seq\n",
        "\n",
        "max_len = 0\n",
        "max_num = 0\n",
        "for i in range(1, 100001):\n",
        "    seq_len = len(collatz(i))\n",
        "    if seq_len > max_len:\n",
        "        max_len = seq_len\n",
        "        max_num = i\n",
        "\n",
        "print(\"Maior sequência de Collatz para um número entre 1 e 100000 é\", max_len, \"para o número\", max_num)\n"
      ]
    }
  ]
}